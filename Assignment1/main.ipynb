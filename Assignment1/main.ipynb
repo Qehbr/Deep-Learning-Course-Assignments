{
 "cells": [
  {
   "metadata": {
    "ExecuteTime": {
     "end_time": "2025-03-30T12:07:19.984341Z",
     "start_time": "2025-03-30T12:07:17.030254Z"
    }
   },
   "cell_type": "code",
   "source": [
    "from data.mnist_loader import load_mnist\n",
    "from train.model import l_layer_model\n",
    "from train.predict import predict\n",
    "from train.utils import plot_costs"
   ],
   "id": "5158999ca5e0c511",
   "outputs": [],
   "execution_count": 2
  },
  {
   "metadata": {
    "ExecuteTime": {
     "end_time": "2025-03-30T12:07:24.502581Z",
     "start_time": "2025-03-30T12:07:24.496622Z"
    }
   },
   "cell_type": "code",
   "source": [
    "def run(learning_rate, batch_size, use_batchnorm, lambd):\n",
    "    X_train, Y_train, X_val, Y_val, X_test, Y_test = load_mnist()\n",
    "    layers_dims = [784, 20, 7, 5, 10]\n",
    "\n",
    "    parameters, costs = l_layer_model(\n",
    "        X_train, Y_train,\n",
    "        layers_dims=layers_dims,\n",
    "        learning_rate=learning_rate,\n",
    "        num_iterations=3000,\n",
    "        batch_size=batch_size,\n",
    "        use_batchnorm=use_batchnorm,\n",
    "        lambd=lambd\n",
    "    )\n",
    "\n",
    "    print(\"Train accuracy:\", predict(X_train, Y_train, parameters))\n",
    "    print(\"Validation accuracy:\", predict(X_val, Y_val, parameters))\n",
    "    print(\"Test accuracy:\", predict(X_test, Y_test, parameters))\n",
    "    plot_costs(costs)"
   ],
   "id": "1326d65cbc631e6c",
   "outputs": [],
   "execution_count": 3
  },
  {
   "metadata": {},
   "cell_type": "markdown",
   "source": "No Batchnorm",
   "id": "3cd24de1900eacc7"
  },
  {
   "metadata": {
    "jupyter": {
     "is_executing": true
    },
    "ExecuteTime": {
     "start_time": "2025-03-30T12:07:27.064345Z"
    }
   },
   "cell_type": "code",
   "source": "run(0.001, 16, use_batchnorm=False, lambd=0.0)",
   "id": "d1cccf2b510666c9",
   "outputs": [],
   "execution_count": null
  },
  {
   "metadata": {},
   "cell_type": "markdown",
   "source": "With Batchnorm",
   "id": "e2d8779ab2ae98a2"
  },
  {
   "metadata": {},
   "cell_type": "code",
   "outputs": [],
   "execution_count": null,
   "source": "run(0.001, 16, use_batchnorm=True, lambd=0.0)",
   "id": "26b2b259839fb033"
  },
  {
   "metadata": {},
   "cell_type": "markdown",
   "source": "With L2 Regularization",
   "id": "d0dc855147a233b1"
  },
  {
   "metadata": {},
   "cell_type": "code",
   "outputs": [],
   "execution_count": null,
   "source": "run(0.001, 16, use_batchnorm=False, lambd=0.7)",
   "id": "42d12153515022"
  },
  {
   "metadata": {},
   "cell_type": "code",
   "outputs": [],
   "execution_count": null,
   "source": "",
   "id": "7ecb171e517d5c5e"
  }
 ],
 "metadata": {
  "kernelspec": {
   "display_name": "Python 3",
   "language": "python",
   "name": "python3"
  },
  "language_info": {
   "codemirror_mode": {
    "name": "ipython",
    "version": 2
   },
   "file_extension": ".py",
   "mimetype": "text/x-python",
   "name": "python",
   "nbconvert_exporter": "python",
   "pygments_lexer": "ipython2",
   "version": "2.7.6"
  }
 },
 "nbformat": 4,
 "nbformat_minor": 5
}
